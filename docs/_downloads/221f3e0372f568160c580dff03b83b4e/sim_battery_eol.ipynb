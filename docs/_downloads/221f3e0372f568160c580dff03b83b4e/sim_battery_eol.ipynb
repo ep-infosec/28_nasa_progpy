{
  "cells": [
    {
      "cell_type": "code",
      "execution_count": null,
      "metadata": {
        "collapsed": false
      },
      "outputs": [],
      "source": [
        "%matplotlib inline"
      ]
    },
    {
      "cell_type": "markdown",
      "metadata": {},
      "source": [
        "\nExample of a battery being simulated until End of Life (EOL). Battery capacity decreases with use. In this case, EOL is defined as when the battery capacity falls below some acceptable threshold (i.e., what we define as useful capacity). \n"
      ]
    },
    {
      "cell_type": "code",
      "execution_count": null,
      "metadata": {
        "collapsed": false
      },
      "outputs": [],
      "source": [
        "import matplotlib.pyplot as plt\n\nfrom prog_models.models import BatteryElectroChem as Battery\n\ndef run_example(): \n    # Step 1: Create a model object\n    batt = Battery()\n\n    # Step 2: Define future loading function \n    # Here we're using a function designed to charge until 0.95, \n    # then discharge until 0.05\n    load = 1\n\n    def future_loading(t, x=None):\n        nonlocal load \n\n        # Rule for loading after initialization\n        if x is not None:\n            # Current event state in the form {'EOD': <(0, 1)>, 'InsufficientCapacity': <(0, 1)>}\n            event_state = batt.event_state(x)\n            if event_state[\"EOD\"] > 0.95:\n                load = 1  # Discharge\n            elif event_state[\"EOD\"] < 0.05:\n                load = -1  # Charge\n        # Rule for loading at initialization\n        return batt.InputContainer({'i': load})\n\n    # Step 3: Simulate to Capacity is insufficient Threshold\n    print('\\n\\n------------------------------------------------')\n    print('Simulating to threshold\\n\\n')\n    options = {\n        'save_freq': 1000,  # Frequency at which results are saved\n        'dt': 2,  # Timestep\n        'threshold_keys': ['InsufficientCapacity'],  # Simulate to InsufficientCapacity\n        'print': True\n    }\n    simulated_results = batt.simulate_to_threshold(future_loading, **options)\n\n    # Step 4: Plot Results\n    simulated_results.inputs.plot(ylabel='Current drawn (amps)')\n    simulated_results.event_states.plot(ylabel='Event States', labels={'EOD': 'State of Charge (SOC)', 'InsufficientCapacity': 'State of Health (SOH)'})\n    plt.ylim([0, 1])\n\n    plt.show()\n\n# This allows the module to be executed directly \nif __name__ == '__main__':\n    run_example()"
      ]
    }
  ],
  "metadata": {
    "kernelspec": {
      "display_name": "Python 3",
      "language": "python",
      "name": "python3"
    },
    "language_info": {
      "codemirror_mode": {
        "name": "ipython",
        "version": 3
      },
      "file_extension": ".py",
      "mimetype": "text/x-python",
      "name": "python",
      "nbconvert_exporter": "python",
      "pygments_lexer": "ipython3",
      "version": "3.8.9"
    }
  },
  "nbformat": 4,
  "nbformat_minor": 0
}