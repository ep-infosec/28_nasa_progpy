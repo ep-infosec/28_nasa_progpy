{
  "cells": [
    {
      "cell_type": "code",
      "execution_count": null,
      "metadata": {
        "collapsed": false
      },
      "outputs": [],
      "source": [
        "%matplotlib inline"
      ]
    },
    {
      "cell_type": "markdown",
      "metadata": {},
      "source": [
        "\nExample demonstrating the Paris Law Crack Growth Equation\n"
      ]
    },
    {
      "cell_type": "code",
      "execution_count": null,
      "metadata": {
        "collapsed": false
      },
      "outputs": [],
      "source": [
        "from prog_models.models.paris_law import ParisLawCrackGrowth \nimport matplotlib.pyplot as plt\nimport csv\nimport os\n\ndef run_example(): \n    # Step 1: Create a model object\n    m = ParisLawCrackGrowth(process_noise = 0)\n    \n    # Step 2: Define future loading function \n    def future_loading(t, x=None):\n        #variable (piece-wise) future loading scheme \n        #inputs are ['k_min', 'k_max']\n        if (t < 500):\n            k_min = 12\n            k_max = 24\n        elif (t < 750):\n            k_min = 8\n            k_max = 32\n        else:\n            k_min = 0\n            k_max = 28\n        return m.InputContainer({'k_min': k_min, 'k_max': k_max})\n\n    # Step 3: Estimate parameters\n    # We do not know the model parameters for this system, \n    # so we need to estimate it using data collected from the system\n    # First we have to import some data from the real system\n    # This is what we use to estimate parameters\n    times = []\n    inputs = []\n    outputs = []\n\n    #Finds file path\n    csv_dir = os.path.join(os.path.dirname(__file__), 'growth.csv')\n\n    #Reads csv file\n    try:\n        with open(csv_dir, newline='') as csvfile:\n            data = csv.reader(csvfile, delimiter=',', quotechar='|' , quoting=csv.QUOTE_NONNUMERIC)\n            for row in data:\n                times.append(row[0])\n                inputs.append({'k_min': row[1], 'k_max': row[2]})\n                outputs.append({'c_l': row[3]})\n    except FileNotFoundError:\n        print(\"No data file found\")\n\n    # Estimates the model parameters\n    keys = ['c', 'm']\n\n    print('Model configuration before')\n    for key in keys:\n        print(\"-\", key, m.parameters[key])\n    print(' Error: ', m.calc_error(times, inputs, outputs, dt=10))\n\n    m.estimate_params([(times, inputs, outputs)], keys, dt=10)\n\n    print('\\nOptimized configuration')\n    for key in keys:\n        print(\"-\", key, m.parameters[key])\n    print(' Error: ', m.calc_error(times, inputs, outputs, dt=10))\n\n    # Step 4: Simulate to threshold\n    print('\\n\\n------------------------------------------------')\n    print('Simulating to threshold\\n\\n')\n    options = {\n        'save_freq': 10, # Frequency at which results are saved\n        'dt': 10, # Timestep\n        'print': True,\n        'horizon': 1e5, # Horizon\n    }\n\n    (times, inputs, _, outputs, event_states) = m.simulate_to_threshold(future_loading, **options)\n\n    # Step 5: Plot Results\n    # crack length\n    # plot event state\n\n    inputs.plot(ylabel='Stress Intensity')\n    event_states.plot(ylabel= 'CGF')\n    outputs.plot(ylabel= {'c_l': \"Crack Length\"}, compact= False)\n    plt.show()\n\nif __name__ == '__main__':\n    run_example()"
      ]
    }
  ],
  "metadata": {
    "kernelspec": {
      "display_name": "Python 3",
      "language": "python",
      "name": "python3"
    },
    "language_info": {
      "codemirror_mode": {
        "name": "ipython",
        "version": 3
      },
      "file_extension": ".py",
      "mimetype": "text/x-python",
      "name": "python",
      "nbconvert_exporter": "python",
      "pygments_lexer": "ipython3",
      "version": "3.8.9"
    }
  },
  "nbformat": 4,
  "nbformat_minor": 0
}