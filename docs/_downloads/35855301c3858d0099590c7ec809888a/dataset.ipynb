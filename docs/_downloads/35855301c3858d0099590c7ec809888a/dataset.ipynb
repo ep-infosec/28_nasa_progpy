{
  "cells": [
    {
      "cell_type": "code",
      "execution_count": null,
      "metadata": {
        "collapsed": false
      },
      "outputs": [],
      "source": [
        "%matplotlib inline"
      ]
    },
    {
      "cell_type": "markdown",
      "metadata": {},
      "source": [
        "\nExample downloading and using a NASA prognostics dataset.\n\nIn this example, a battery dataset is downloaded from the NASA PCoE data repository. This dataset is then accessed and plotted. \n"
      ]
    },
    {
      "cell_type": "code",
      "execution_count": null,
      "metadata": {
        "collapsed": false
      },
      "outputs": [],
      "source": [
        "DATASET_ID = 1\n\ndef run_example():\n    # Step 1: Download and import the dataset for a single battery\n    # Note: This may take some time\n    from prog_models.datasets import nasa_battery\n    print('Downloading... ', end='')\n    (desc, data) = nasa_battery.load_data(DATASET_ID)\n    print('done')\n\n    # We recommend saving the dataset to disk for future use\n    # This way you dont have to download it each time\n    import pickle\n    pickle.dump((desc, data), open(f'dataset_{DATASET_ID}.pkl', 'wb'))\n\n    # Step 2: Access the dataset description\n    print(f'\\nDataset {DATASET_ID}')\n    print(desc['description'])\n    print(f'Procedure: {desc[\"procedure\"]}')\n\n    # Step 3: Access the dataset data\n    # Data is in format [run_id][time][variable]\n    # For the battery the variables are \n    #    0: relativeTime (since beginning of run)\n    #    1: current (amps)\n    #    2: voltage\n    #    3: temperature (\u00b0C)\n    # so that data[a][b, 3] is the temperature at time index b (relative to the start of the run) for run a\n    print(f'\\nNumber of runs: {len(data)}')\n    print(f'\\nAnalyzing run 4')\n    print(f'number of time indices: {len(data[4])}')\n    print(f\"Details of run 4: {desc['runs'][4]}\")\n\n    # Plot the run\n    import matplotlib.pyplot as plt\n    plt.figure()\n    plt.subplot(2, 1, 1)\n    plt.plot(data[4][:, 0], data[4][:, 1])\n    plt.ylabel('Current (A)')\n\n    plt.subplot(2, 1, 2)\n    plt.plot(data[4][:, 0], data[4][:, 2])\n    plt.ylabel('Voltage (V)')\n    plt.xlabel('Time (s)')\n    plt.title('Run 4')\n\n    # Graph all reference discharge profiles\n    indices = [i for i, x in enumerate(desc['runs']) if 'reference discharge' in x['desc'] and 'rest' not in x['desc']]\n    plt.figure()\n    for i in indices:\n        plt.plot(data[i][:, 0], data[i][:, 2], label=f\"Run {i}\")\n    plt.title('Reference discharge profiles')\n    plt.xlabel('Time (s)')\n    plt.ylabel('Voltage (V)')\n    plt.show()\n\n# This allows the module to be executed directly \nif __name__=='__main__':\n    run_example()"
      ]
    }
  ],
  "metadata": {
    "kernelspec": {
      "display_name": "Python 3",
      "language": "python",
      "name": "python3"
    },
    "language_info": {
      "codemirror_mode": {
        "name": "ipython",
        "version": 3
      },
      "file_extension": ".py",
      "mimetype": "text/x-python",
      "name": "python",
      "nbconvert_exporter": "python",
      "pygments_lexer": "ipython3",
      "version": "3.8.9"
    }
  },
  "nbformat": 4,
  "nbformat_minor": 0
}