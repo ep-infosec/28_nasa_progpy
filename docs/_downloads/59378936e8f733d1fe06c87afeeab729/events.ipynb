{
  "cells": [
    {
      "cell_type": "code",
      "execution_count": null,
      "metadata": {
        "collapsed": false
      },
      "outputs": [],
      "source": [
        "%matplotlib inline"
      ]
    },
    {
      "cell_type": "markdown",
      "metadata": {},
      "source": [
        "\nExample further illustrating the concept of 'events' which generalizes EOL. \n\n'Events' is the term used to describe something to be predicted. \nGenerally in the PHM community these are referred to as End of Life (EOL). \nHowever, they can be much more.\n\nIn the prog_models package, events can be anything that needs to be predicted. \nEvents can represent End of Life (EOL), End of Mission (EOM), warning thresholds, or any Event of Interest (EOI). \n\nThis example demonstrates how events can be used in your applications. \n"
      ]
    },
    {
      "cell_type": "code",
      "execution_count": null,
      "metadata": {
        "collapsed": false
      },
      "outputs": [],
      "source": [
        "from prog_models.models import BatteryElectroChemEOD\n\ndef run_example():\n    # Example: Warning thresholds\n    # In this example we will use the battery model\n    # We of course are interested in end of discharge, but for this example we\n    # have a requirement that says the battery must not fall below 5% State of Charge (SOC)\n    # Note: SOC is the event state for the End of Discharge (EOD) event\n    # Event states, like SOC go between 0 and 1, where 1 is healthy and at 0 the event has occured. \n    # So, 5% SOC corresponds to an 'EOD' event state of 0.05\n    # Additionally, we have two warning thresholds (yellow and red)\n\n    YELLOW_THRESH = 0.15\n    RED_THRESH = 0.1\n    THRESHOLD = 0.05\n\n    # Step 1: Extend the battery model to define the additional events\n    class MyBatt(BatteryElectroChemEOD):\n        events = BatteryElectroChemEOD.events + ['EOD_warn_yellow', 'EOD_warn_red', 'EOD_requirement_threshold']\n\n        def event_state(self, state):\n            # Get event state from parent\n            event_state = super().event_state(state)\n\n            # Add yellow, red, and failure states by scaling EOD state\n            # Here we scale so the threshold SOC is 0 by their associated events, while SOC of 1 is still 1\n            # For example, for yellow we want EOD_warn_yellow to be 1 when SOC is 1, and 0 when SOC is YELLOW_THRESH or lower\n            event_state['EOD_warn_yellow'] = (event_state['EOD']-YELLOW_THRESH)/(1-YELLOW_THRESH) \n            event_state['EOD_warn_red'] = (event_state['EOD']-RED_THRESH)/(1-RED_THRESH)\n            event_state['EOD_requirement_threshold'] = (event_state['EOD']-THRESHOLD)/(1-THRESHOLD)\n\n            # Return\n            return event_state\n\n        def threshold_met(self, x):\n            # Get threshold met from parent\n            t_met =  super().threshold_met(x)\n\n            # Add yell and red states from event_state\n            event_state = self.event_state(x)\n            t_met['EOD_warn_yellow'] = event_state['EOD_warn_yellow'] <= 0\n            t_met['EOD_warn_red'] = event_state['EOD_warn_red'] <= 0\n            t_met['EOD_requirement_threshold'] = event_state['EOD_requirement_threshold'] <= 0\n\n            return t_met\n\n    # Step 2: Use it\n    m = MyBatt()\n\n    # 2a: Setup model\n    def future_loading(t, x=None):\n        # Variable (piece-wise) future loading scheme \n        # For a battery, future loading is in term of current 'i' in amps. \n        if (t < 600):\n            i = 2\n        elif (t < 900):\n            i = 1\n        elif (t < 1800):\n            i = 4\n        elif (t < 3000):\n            i = 2     \n        else:\n            i = 3\n        return m.InputContainer({'i': i})\n    \n    # 2b: Simulate to threshold\n    simulated_results = m.simulate_to_threshold(future_loading, threshold_keys=['EOD'], print = True)\n\n    # 2c: Plot results\n    simulated_results.event_states.plot()\n    import matplotlib.pyplot as plt\n    plt.show()\n\n# This allows the module to be executed directly \nif __name__ == '__main__':\n    run_example()"
      ]
    }
  ],
  "metadata": {
    "kernelspec": {
      "display_name": "Python 3",
      "language": "python",
      "name": "python3"
    },
    "language_info": {
      "codemirror_mode": {
        "name": "ipython",
        "version": 3
      },
      "file_extension": ".py",
      "mimetype": "text/x-python",
      "name": "python",
      "nbconvert_exporter": "python",
      "pygments_lexer": "ipython3",
      "version": "3.8.9"
    }
  },
  "nbformat": 4,
  "nbformat_minor": 0
}