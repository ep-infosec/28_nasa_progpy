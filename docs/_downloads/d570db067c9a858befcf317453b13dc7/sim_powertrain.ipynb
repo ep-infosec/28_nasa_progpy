{
  "cells": [
    {
      "cell_type": "code",
      "execution_count": null,
      "metadata": {
        "collapsed": false
      },
      "outputs": [],
      "source": [
        "%matplotlib inline"
      ]
    },
    {
      "cell_type": "markdown",
      "metadata": {},
      "source": [
        "\nExample of a powertrain being simulated for a set amount of time. \n"
      ]
    },
    {
      "cell_type": "code",
      "execution_count": null,
      "metadata": {
        "collapsed": false
      },
      "outputs": [],
      "source": [
        "from prog_models.models import Powertrain, ESC, DCMotor\n\ndef run_example():\n    # Create a model object\n    esc = ESC()\n    motor = DCMotor()\n    powertrain = Powertrain(esc, motor)\n\n    # Define future loading function - 100% duty all the time\n    def future_loading(t, x=None):\n        return powertrain.InputContainer({\n            'duty': 1,\n            'v': 23\n        })\n    \n    # Simulate to threshold\n    print('\\n\\n------------------------------------------------')\n    print('Simulating to threshold\\n\\n')\n    simulated_results = powertrain.simulate_to(2, future_loading, dt=2e-5, save_freq=0.1, print=True)\n\n# This allows the module to be executed directly \nif __name__ == '__main__':\n    run_example()"
      ]
    }
  ],
  "metadata": {
    "kernelspec": {
      "display_name": "Python 3",
      "language": "python",
      "name": "python3"
    },
    "language_info": {
      "codemirror_mode": {
        "name": "ipython",
        "version": 3
      },
      "file_extension": ".py",
      "mimetype": "text/x-python",
      "name": "python",
      "nbconvert_exporter": "python",
      "pygments_lexer": "ipython3",
      "version": "3.8.9"
    }
  },
  "nbformat": 4,
  "nbformat_minor": 0
}