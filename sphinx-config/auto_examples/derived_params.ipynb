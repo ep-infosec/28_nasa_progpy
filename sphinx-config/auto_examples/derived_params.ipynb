{
  "cells": [
    {
      "cell_type": "code",
      "execution_count": null,
      "metadata": {
        "collapsed": false
      },
      "outputs": [],
      "source": [
        "%matplotlib inline"
      ]
    },
    {
      "cell_type": "markdown",
      "metadata": {},
      "source": [
        "\nExample demonstrating ways to use the derived parameters feature for model building. \n"
      ]
    },
    {
      "cell_type": "code",
      "execution_count": null,
      "metadata": {
        "collapsed": false
      },
      "outputs": [],
      "source": [
        "from prog_models.models.thrown_object import ThrownObject\n\ndef run_example():\n    # For this example we will use the ThrownObject model from the new_model example.\n    # We will extend that model to include a derived parameter\n    # Let's assume that the throwing_speed was actually a function of thrower_height \n    # (i.e., a taller thrower would throw the ball faster).\n    # Here's how we would implement that\n\n    # Step 1: Define a function for the relationship between thrower_height and throwing_speed.\n    def update_thrown_speed(params):\n        return {\n            'throwing_speed': params['thrower_height'] * 21.85\n        }  # Assumes thrown_speed is linear function of height\n    # Note: one or more parameters can be changed in these functions, whatever parameters are changed are returned in the dictionary\n\n    # Step 2: Define the param callbacks\n    ThrownObject.param_callbacks.update({\n            'thrower_height': [update_thrown_speed]\n        })  # Tell the derived callbacks feature to call this function when thrower_height changes.\n    # Note: Usually we would define this method within the class\n    #  for this example, we're doing it separately to improve readability\n    # Note2: You can also have more than one function be called when a single parameter is changed.\n    #  Do this by adding the additional callbacks to the list (e.g., 'thrower_height': [update_thrown_speed, other_fcn])\n\n    # Step 3: Use!\n    obj = ThrownObject()\n    print(\"Default Settings:\\n\\tthrower_height: {}\\n\\tthowing_speed: {}\".format(obj.parameters['thrower_height'], obj.parameters['throwing_speed']))\n    \n    # Now let's change the thrower_height\n    print(\"changing height...\")\n    obj.parameters['thrower_height'] = 1.75  # Our thrower is 1.75 m tall\n    print(\"\\nUpdated Settings:\\n\\tthrower_height: {}\\n\\tthowing_speed: {}\".format(obj.parameters['thrower_height'], obj.parameters['throwing_speed']))\n    print(\"Notice how speed changed automatically with height\")\n\n\n# This allows the module to be executed directly \nif __name__ == '__main__':\n    run_example()"
      ]
    }
  ],
  "metadata": {
    "kernelspec": {
      "display_name": "Python 3",
      "language": "python",
      "name": "python3"
    },
    "language_info": {
      "codemirror_mode": {
        "name": "ipython",
        "version": 3
      },
      "file_extension": ".py",
      "mimetype": "text/x-python",
      "name": "python",
      "nbconvert_exporter": "python",
      "pygments_lexer": "ipython3",
      "version": "3.8.9"
    }
  },
  "nbformat": 4,
  "nbformat_minor": 0
}