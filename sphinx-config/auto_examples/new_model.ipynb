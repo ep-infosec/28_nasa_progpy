{
  "cells": [
    {
      "cell_type": "code",
      "execution_count": null,
      "metadata": {
        "collapsed": false
      },
      "outputs": [],
      "source": [
        "%matplotlib inline"
      ]
    },
    {
      "cell_type": "markdown",
      "metadata": {},
      "source": [
        "\nExample defining and testing a new model. \n"
      ]
    },
    {
      "cell_type": "code",
      "execution_count": null,
      "metadata": {
        "collapsed": false
      },
      "outputs": [],
      "source": [
        "from prog_models import PrognosticsModel\n\n\nclass ThrownObject(PrognosticsModel):\n    \"\"\"\n    Model that similates an object thrown into the air without air resistance\n    \"\"\"\n\n    inputs = [] # no inputs, no way to control\n    states = [\n        'x', # Position (m) \n        'v'  # Velocity (m/s)\n        ]\n    outputs = [ # Anything we can measure\n        'x' # Position (m)\n    ]\n    events = [\n        'falling', # Event- object is falling\n        'impact' # Event- object has impacted ground\n    ]\n\n    # The Default parameters. Overwritten by passing parameters dictionary into constructor\n    default_parameters = {\n        'thrower_height': 1.83,  # m\n        'throwing_speed': 40,  # m/s\n        'g': -9.81,  # Acceleration due to gravity in m/s^2\n        'process_noise': 0.0  # amount of noise in each step\n    }\n\n    def initialize(self, u, z):\n        self.max_x = 0.0\n        return self.StateContainer({\n            'x': self.parameters['thrower_height'],  # Thrown, so initial altitude is height of thrower\n            'v': self.parameters['throwing_speed']  # Velocity at which the ball is thrown - this guy is a professional baseball pitcher\n            })\n    \n    def dx(self, x, u):\n        return self.StateContainer({'x': x['v'],\n                'v': self.parameters['g']})  # Acceleration of gravity\n\n    def output(self, x):\n        return self.OutputContainer({'x': x['x']})\n\n    # This is actually optional. Leaving thresholds_met empty will use the event state to define thresholds.\n    #  Threshold = Event State == 0. However, this implementation is more efficient, so we included it\n    def threshold_met(self, x):\n        return {\n            'falling': x['v'] < 0,\n            'impact': x['x'] <= 0\n        }\n\n    def event_state(self, x): \n        self.max_x = max(self.max_x, x['x'])  # Maximum altitude\n        return {\n            'falling': max(x['v']/self.parameters['throwing_speed'],0),  # Throwing speed is max speed\n            'impact': max(x['x']/self.max_x,0)  # 1 until falling begins, then it's fraction of height\n        }\n\ndef run_example():\n    # Demo model\n    # Step 1: Create instance of model\n    m = ThrownObject()\n\n    # Step 2: Setup for simulation \n    def future_load(t, x=None):\n        return m.InputContainer({})  # No inputs, no way to control\n\n    # Step 3: Simulate to impact\n    event = 'impact'\n    simulated_results = m.simulate_to_threshold(future_load, threshold_keys=[event], dt=0.005, save_freq=1, print = True)\n    \n    # Print flight time\n    print('The object hit the ground in {} seconds'.format(round(simulated_results.times[-1],2)))\n\n    # OK, now lets compare performance on different heavenly bodies. \n    # This requires that we update the cofiguration\n    grav_moon = -1.62\n\n    # The first way to change the configuration is to pass in your desired config into construction of the model\n    m = ThrownObject(g = grav_moon)\n    simulated_moon_results = m.simulate_to_threshold(future_load, threshold_keys=[event], options={'dt':0.005, 'save_freq':1})\n\n    grav_mars = -3.711\n    # You can also update the parameters after it's constructed\n    m.parameters['g'] = grav_mars\n    simulated_mars_results = m.simulate_to_threshold(future_load, threshold_keys=[event], options={'dt':0.005, 'save_freq':1})\n\n    grav_venus = -8.87\n    m.parameters['g'] = grav_venus\n    simulated_venus_results = m.simulate_to_threshold(future_load, threshold_keys=[event], options={'dt':0.005, 'save_freq':1})\n\n    print('Time to hit the ground: ')\n    print('\\tvenus: {}s'.format(round(simulated_venus_results.times[-1],2)))\n    print('\\tearth: {}s'.format(round(simulated_results.times[-1],2)))\n    print('\\tmars: {}s'.format(round(simulated_mars_results.times[-1],2)))\n    print('\\tmoon: {}s'.format(round(simulated_moon_results.times[-1],2)))\n\n    # We can also simulate until any event is met by neglecting the threshold_keys argument\n    simulated_results = m.simulate_to_threshold(future_load, options={'dt':0.005, 'save_freq':1})\n    threshs_met = m.threshold_met(simulated_results.states[-1])\n    for (key, met) in threshs_met.items():\n        if met:\n            event_occured = key\n    print('\\nThis event that occured first: ', event_occured)\n    # It falls before it hits the gorund, obviously\n\n    # Metrics can be analyzed from the simulation results. For example: monotonicity\n    print('\\nMonotonicity: ', simulated_results.event_states.monotonicity())\n\n# This allows the module to be executed directly \nif __name__=='__main__':\n    run_example()"
      ]
    }
  ],
  "metadata": {
    "kernelspec": {
      "display_name": "Python 3",
      "language": "python",
      "name": "python3"
    },
    "language_info": {
      "codemirror_mode": {
        "name": "ipython",
        "version": 3
      },
      "file_extension": ".py",
      "mimetype": "text/x-python",
      "name": "python",
      "nbconvert_exporter": "python",
      "pygments_lexer": "ipython3",
      "version": "3.8.9"
    }
  },
  "nbformat": 4,
  "nbformat_minor": 0
}