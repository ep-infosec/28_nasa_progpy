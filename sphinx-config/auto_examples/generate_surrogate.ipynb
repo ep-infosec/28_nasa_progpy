{
  "cells": [
    {
      "cell_type": "code",
      "execution_count": null,
      "metadata": {
        "collapsed": false
      },
      "outputs": [],
      "source": [
        "%matplotlib inline"
      ]
    },
    {
      "cell_type": "markdown",
      "metadata": {},
      "source": [
        "\nExample of generating a Dynamic Mode Decomposition surrogate model using the battery model \n"
      ]
    },
    {
      "cell_type": "code",
      "execution_count": null,
      "metadata": {
        "collapsed": false
      },
      "outputs": [],
      "source": [
        "from prog_models.models import BatteryElectroChemEOD as Battery\n\nimport matplotlib.pyplot as plt\n\ndef run_example(): \n    ### Example 1: Standard DMD Application \n    ## Step 1: Create a model object\n    batt = Battery()\n\n    ## Step 2: Define future loading functions for training data \n    # Here, we define two specific loading profiles. These could also be generated programmatically, for as many loading profiles as desired \n    def future_loading_1(t, x=None):\n        # Variable (piece-wise) future loading scheme \n        if (t < 500):\n            i = 3\n        elif (t < 1000):\n            i = 2\n        elif (t < 1500):\n            i = 0.5\n        else:\n            i = 4.5\n        return batt.InputContainer({'i': i})\n    \n    def future_loading_2(t, x=None):\n        # Variable (piece-wise) future loading scheme \n        if (t < 300):\n            i = 2\n        elif (t < 800):\n            i = 3.5\n        elif (t < 1300):\n            i = 4\n        elif (t < 1600):\n            i = 1.5\n        else:\n            i = 5\n        return batt.InputContainer({'i': i})\n    \n    load_functions = [future_loading_1, future_loading_2]\n\n    ## Step 3: generate surrogate model \n    # Simulation options for training data and surrogate model generation\n    # Note: here dt is less than save_freq. This means the model will iterate forward multiple steps per saved point.\n    # This is commonly done to ensure accuracy. \n    options_surrogate = {\n        'save_freq': 1, # For DMD, this value is the time step for which the surrogate model is generated\n        'dt': 0.1, # For DMD, this value is the time step of the training data\n        'trim_data_to': 0.7 # Value between 0 and 1 that determines the fraction of data resulting from simulate_to_threshold that is used to train DMD surrogate model\n    }\n\n    # Set noise in Prognostics Model, default for surrogate model is also this value\n    batt.parameters['process_noise'] = 0\n\n    # Generate surrogate model  \n    surrogate = batt.generate_surrogate(load_functions,**options_surrogate)\n\n    ## Step 4: Use surrogate model \n    # Simulation options for implementation of surrogate model\n    options_sim = {\n        'save_freq': 1 # Frequency at which results are saved, or equivalently time step in results\n    }\n\n    # Define loading profile \n    def future_loading(t, x=None):\n        if (t < 600):\n            i = 3\n        elif (t < 1000):\n            i = 2\n        elif (t < 1500):\n            i = 1.5\n        else:\n            i = 4\n        return batt.InputContainer({'i': i})\n\n    # Simulate to threshold using DMD approximation\n    simulated_results = surrogate.simulate_to_threshold(future_loading,**options_sim)\n\n    # Calculate Error\n    MSE = batt.calc_error(simulated_results.times, simulated_results.inputs, simulated_results.outputs)\n    print('Example 1 MSE:',MSE)\n    # Not a very good approximation\n\n    # Plot results\n    simulated_results.inputs.plot(ylabel = 'Current (amps)',title='Example 1 Input')\n    simulated_results.outputs.plot(ylabel = 'Predicted Outputs (temperature and voltage)',title='Example 1 Predicted Outputs')\n    simulated_results.event_states.plot(ylabel = 'Predicted State of Charge', title='Example 1 Predicted SOC')\n\n    # To visualize the accuracy of the approximation, run the high-fidelity model\n    options_hf = {\n        'dt': 0.1,\n        'save_freq': 1,\n    }\n    high_fidelity_results = batt.simulate_to_threshold(future_loading,**options_hf)\n\n    # Save voltage results to compare\n    voltage_dmd = [simulated_results.outputs[iter1]['v'] for iter1 in range(len(simulated_results.times))]\n    voltage_hf = [high_fidelity_results.outputs[iter2]['v'] for iter2 in range(len(high_fidelity_results.times))]\n\n    plt.subplots()\n    plt.plot(simulated_results.times,voltage_dmd,'-b',label='DMD approximation')\n    plt.plot(high_fidelity_results.times, voltage_hf,'--r',label='High fidelity result')\n    plt.legend()\n    plt.title('Comparing DMD approximation to high-fidelity model results')\n\n    ### Example 2: Add process_noise to the surrogate model \n        # Without re-generating the surrogate model, we can re-define the process_noise to be higher than the high-fidelity model (since the surrogate model is less accurate)\n    surrogate.parameters['process_noise'] = 1e-04\n    surrogate.parameters['process_noise_dist'] = 'normal'\n\n    # Simulate to threshold using DMD approximation \n    simulated_results = surrogate.simulate_to_threshold(future_loading,**options_sim)\n\n    # Plot results\n    simulated_results.inputs.plot(ylabel = 'Current (amps)',title='Example 2 Input')\n    simulated_results.outputs.plot(keys=['v'],ylabel = 'Predicted Voltage (volts)', title='Example 2 Predicted Outputs')\n    simulated_results.event_states.plot(ylabel = 'Predicted State of Charge', title='Example 2 Predicted SOC')\n\n    ### Example 3: Generate surrogate model with a subset of internal states, inputs, and/or outputs\n        # Note: we use the same loading profiles as defined in Ex. 1\n\n    ## Generate surrogate model \n    # Simulation options for training data and surrogate model generation\n    options_surrogate = {\n        'save_freq': 1, # For DMD, this value is the time step for which the surrogate model is generated\n        'dt': 0.1, # For DMD, this value is the time step of the training data\n        'trim_data': 1, # Value between 0 and 1 that determines the fraction of data resulting from simulate_to_threshold that is used to train DMD surrogate model\n        'state_keys': ['Vsn','Vsp','tb'], # Define internal states to be included in surrogate model\n        'output_keys': ['v'] # Define outputs to be included in surrogate model \n    }\n\n    # Set noise in Prognostics Model, default for surrogate model is also this value\n    batt.parameters['process_noise'] = 0\n\n    # Generate surrogate model  \n    surrogate = batt.generate_surrogate(load_functions,**options_surrogate)\n\n    ## Use surrogate model \n    # The surrogate model can now be used anywhere the original model is used. It is interchangeable with the original model. \n    # The surrogate model results will be faster but less accurate than the original model. \n\n    # Simulation options for implementation of surrogate model\n    options_sim = {\n        'save_freq': 1 # Frequency at which results are saved, or equivalently time step in results\n    }\n\n    # Simulate to threshold using DMD approximation\n    simulated_results = surrogate.simulate_to_threshold(future_loading,**options_sim)\n\n    # Calculate Error\n    MSE = batt.calc_error(simulated_results.times, simulated_results.inputs, simulated_results.outputs)\n    print('Example 3 MSE:',MSE)\n\n    # Plot results\n    simulated_results.inputs.plot(ylabel = 'Current (amps)',title='Example 3 Input')\n    simulated_results.outputs.plot(ylabel = 'Outputs (voltage)',title='Example 3 Predicted Output')\n    simulated_results.event_states.plot(ylabel = 'State of Charge',title='Example 3 Predicted SOC')\n    plt.show()\n\n# This allows the module to be executed directly \nif __name__ == '__main__':\n    run_example()"
      ]
    }
  ],
  "metadata": {
    "kernelspec": {
      "display_name": "Python 3",
      "language": "python",
      "name": "python3"
    },
    "language_info": {
      "codemirror_mode": {
        "name": "ipython",
        "version": 3
      },
      "file_extension": ".py",
      "mimetype": "text/x-python",
      "name": "python",
      "nbconvert_exporter": "python",
      "pygments_lexer": "ipython3",
      "version": "3.8.9"
    }
  },
  "nbformat": 4,
  "nbformat_minor": 0
}