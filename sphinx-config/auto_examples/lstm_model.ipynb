{
  "cells": [
    {
      "cell_type": "code",
      "execution_count": null,
      "metadata": {
        "collapsed": false
      },
      "outputs": [],
      "source": [
        "%matplotlib inline"
      ]
    },
    {
      "cell_type": "markdown",
      "metadata": {},
      "source": [
        "\nExample building a LSTMStateTransitionModel from data. This is a simple example of how to use the LSTMStateTransitionModel class.\n\nIn this example, we generate fake data using the ThrownObject model. This is a case where we're generating a surrogate model from the physics-based model. For cases where you're generating a model from data (e.g., collected from a testbed or a real-world environment), you'll replace that generated data with your own. We then use the generated model and compare to the original model.\n\nFinally, we repeat the exercise with data from the more complex BatteryElectroChemEOD model.\n"
      ]
    },
    {
      "cell_type": "code",
      "execution_count": null,
      "metadata": {
        "collapsed": false
      },
      "outputs": [],
      "source": [
        "import matplotlib.pyplot as plt\nimport numpy as np\n\nfrom prog_models.data_models import LSTMStateTransitionModel\nfrom prog_models.models import ThrownObject, BatteryElectroChemEOD\n\ndef run_example():\n    # -----------------------------------------------------\n    # Example 1- set timestep \n    # Here we will create a model for a specific timestep.\n    # The model will only work with that timestep \n    # This is useful if you know the timestep you would like to use\n    # -----------------------------------------------------\n    TIMESTEP = 0.01\n\n    # Step 1: Generate data\n    # We'll use the ThrownObject model to generate data.\n    # For cases where you're generating a model from data (e.g., collected from a testbed or a real-world environment), \n    # you'll replace that generated data with your own.\n    print('Generating data')\n    m = ThrownObject()\n\n    def future_loading(t, x=None):\n        return m.InputContainer({})  # No input for thrown object \n\n    data = m.simulate_to_threshold(future_loading, threshold_keys='impact', save_freq=TIMESTEP, dt=TIMESTEP)\n\n    # Step 2: Generate model\n    # We'll use the LSTMStateTransitionModel class to generate a model from the data.\n    print('Building model...')\n    m2 = LSTMStateTransitionModel.from_data(\n        inputs = [data.inputs],\n        outputs = [data.outputs],  \n        window=4, \n        epochs=30,\n        output_keys = ['x'])    \n    \n    # Step 3: Use model to simulate_to time of threshold\n    print('Simulating with generated model...')\n\n    t_counter = 0\n    x_counter = m.initialize()\n    def future_loading2(t, x = None):\n        # Future Loading is a bit complicated here \n        # Loading for the resulting model includes the data inputs, \n        # and the output from the last timestep\n        nonlocal t_counter, x_counter\n        z = m.output(x_counter)\n        z = m2.InputContainer(z.matrix)\n        x_counter = m.next_state(x_counter, future_loading(t), t - t_counter)\n        t_counter = t\n        return z\n    \n    results2 = m2.simulate_to(data.times[-1], future_loading2, dt=TIMESTEP, save_freq=TIMESTEP)\n\n    # Step 4: Compare model to original model\n    print('Comparing results...')\n    data.outputs.plot(title='original model')\n    results2.outputs.plot(title='generated model')\n    plt.show()\n\n    # -----------------------------------------------------\n    # Example 2- variable timestep \n    # Here we will create a model to work with any timestep\n    # We do this by adding timestep as a variable in the model\n    # -----------------------------------------------------\n\n    # Step 1: Generate additional data\n    # We will use data generated above, but we also want data at additional timesteps \n    print('\\n------------------------------------------\\nExample 2...')\n    print('Generating additional data...')\n    data_half = m.simulate_to_threshold(future_loading, threshold_keys='impact', save_freq=TIMESTEP/2, dt=TIMESTEP/2)\n    data_quarter = m.simulate_to_threshold(future_loading, threshold_keys='impact', save_freq=TIMESTEP/4, dt=TIMESTEP/4)\n    data_twice = m.simulate_to_threshold(future_loading, threshold_keys='impact', save_freq=TIMESTEP*2, dt=TIMESTEP*2)\n    data_four = m.simulate_to_threshold(future_loading, threshold_keys='impact', save_freq=TIMESTEP*4, dt=TIMESTEP*4)\n\n    # Step 2: Data Prep\n    # We need to add the timestep as a input\n    u = np.array([[TIMESTEP] for _ in data.inputs])\n    u_half = np.array([[TIMESTEP/2] for _ in data_half.inputs])\n    u_quarter = np.array([[TIMESTEP/4] for _ in data_quarter.inputs])\n    u_twice = np.array([[TIMESTEP*2] for _ in data_twice.inputs])\n    u_four = np.array([[TIMESTEP*4] for _ in data_four.inputs])\n\n    input_data = [u, u_half, u_quarter, u_twice, u_four]\n    output_data = [data.outputs, data_half.outputs, data_quarter.outputs, data_twice.outputs, data_four.outputs]\n\n    # Step 3: Generate Model\n    print('Building model...')\n    m3 = LSTMStateTransitionModel.from_data(\n        inputs = input_data,  \n        outputs = output_data,\n        window=4, \n        epochs=30, \n        input_keys = ['dt'],\n        output_keys = ['x'])  \n    # Note, since we're generating from a model, we could also have done this:\n    # m3 = LSTMStateTransitionModel.from_model(\n    #     m,\n    #     [future_loading for _ in range(5)],\n    #     dt = [TIMESTEP, TIMESTEP/2, TIMESTEP/4, TIMESTEP*2, TIMESTEP*4],\n    #     window=4, \n    #     epochs=30)  \n\n    # Step 4: Simulate with model\n    t_counter = 0\n    x_counter = m.initialize()\n    def future_loading3(t, x = None):\n        nonlocal t_counter, x_counter\n        z = m3.InputContainer({'x_t-1': x_counter['x'], 'dt': t - t_counter})\n        x_counter = m.next_state(x_counter, future_loading(t), t - t_counter)\n        t_counter = t\n        return z\n\n    # Use new dt, not used in training\n    # Using a dt not used in training will demonstrate the model's \n    # ability to handle different timesteps not part of training set\n    data = m.simulate_to(data.times[-1], future_loading, dt=TIMESTEP*3, save_freq=TIMESTEP*3)\n    results3 = m3.simulate_to(data.times[-1], future_loading3, dt=TIMESTEP*3, save_freq=TIMESTEP*3)\n\n    # Step 5: Compare Results\n    print('Comparing results...')\n    data.outputs.plot(title='original model')\n    results3.outputs.plot(title='generated model')\n    plt.show()\n\n    # -----------------------------------------------------\n    # Example 3- More complicated system\n    # Here we will create a model for a more complicated system\n    # For this example we will use the BatteryElectroChemEOD model\n    # -----------------------------------------------------\n    print('\\n------------------------------------------\\nExample 3...')\n    print('Generating data...')\n    batt = BatteryElectroChemEOD(process_noise = 0, measurement_noise=0)\n    future_loading_eqns = [lambda t, x=None, load=load: batt.InputContainer({'i': 1+1.5*load}) for load in range(6)]\n    # Generate data with different loading and step sizes\n    # Adding the step size as an element of the output\n    input_data = []\n    output_data = []\n    for i in range(9):\n        dt = i/3+0.25\n        for loading_eqn in future_loading_eqns:\n            d = batt.simulate_to_threshold(loading_eqn, save_freq=dt, dt=dt) \n            input_data.append(np.array([np.hstack((u_i.matrix[:][0].T, [dt])) for u_i in d.inputs], dtype=float))\n            output_data.append(d.outputs)\n  \n    # Step 2: Generate Model\n    print('Building model...') \n    m_batt = LSTMStateTransitionModel.from_data(\n        inputs = input_data,\n        outputs = output_data,\n        window=12, \n        epochs=3, \n        units=64,  # Additional units given the increased complexity of the system\n        input_keys = ['i', 'dt'],\n        output_keys = ['t', 'v']) \n\n    # Step 3: Simulate with model\n    t_counter = 0\n    x_counter = batt.initialize()\n\n    def future_loading(t, x=None):\n        return batt.InputContainer({'i': 3})\n\n    def future_loading2(t, x = None):\n        nonlocal t_counter, x_counter\n        z = batt.output(x_counter)\n        z = m_batt.InputContainer({'i': 3, 't_t-1': z['t'], 'v_t-1': z['v'], 'dt': t - t_counter})\n        x_counter = batt.next_state(x_counter, future_loading(t), t - t_counter)\n        t_counter = t\n        return z\n\n    # Use a new dt, not used in training. \n    # Using a dt not used in training will demonstrate the model's \n    # ability to handle different timesteps not part of training set\n    data = batt.simulate_to_threshold(future_loading, dt=1, save_freq=1)\n    results = m_batt.simulate_to(data.times[-1], future_loading2, dt=1, save_freq=1)\n\n    # Step 5: Compare Results\n    print('Comparing results...')\n    data.outputs.plot(title='original model', compact=False)\n    results.outputs.plot(title='generated model', compact=False)\n    plt.show()\n\n    # This last example isn't a perfect fit, but it matches the behavior pretty well\n    # Especially the voltage curve\n\nif __name__ == '__main__':\n    run_example()"
      ]
    }
  ],
  "metadata": {
    "kernelspec": {
      "display_name": "Python 3",
      "language": "python",
      "name": "python3"
    },
    "language_info": {
      "codemirror_mode": {
        "name": "ipython",
        "version": 3
      },
      "file_extension": ".py",
      "mimetype": "text/x-python",
      "name": "python",
      "nbconvert_exporter": "python",
      "pygments_lexer": "ipython3",
      "version": "3.8.9"
    }
  },
  "nbformat": 4,
  "nbformat_minor": 0
}