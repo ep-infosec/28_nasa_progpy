{
  "cells": [
    {
      "cell_type": "code",
      "execution_count": null,
      "metadata": {
        "collapsed": false
      },
      "outputs": [],
      "source": [
        "%matplotlib inline"
      ]
    },
    {
      "cell_type": "markdown",
      "metadata": {},
      "source": [
        "\nExample generating models from constituent parts. \n\nThe model used for this example is that of an object thrown into the air, predicting the impact event\n"
      ]
    },
    {
      "cell_type": "code",
      "execution_count": null,
      "metadata": {
        "collapsed": false
      },
      "outputs": [],
      "source": [
        "# Deriv prog model was selected because the model can be described as x' = x + dx*dt\nfrom prog_models import PrognosticsModel\n\ndef run_example():\n    # Step 1: Define keys\n    keys = {\n        'inputs': [], # no inputs, no way to control\n        'states': [\n            'x', # Position (m) \n            'v'  # Velocity (m/s)\n            ],\n        'outputs': [ # Anything we can measure\n            'x' # Position (m)\n        ],\n        'events': [\n            'falling', # Event- object is falling\n            'impact' # Event- object has impacted ground\n        ]\n    }\n\n    thrower_height = 1.83 # m\n    throwing_speed = 40 # m/s\n    # Step 2: Define initial state\n    def initialize(u, z):\n        return {\n            'x': thrower_height, # Thrown, so initial altitude is height of thrower\n            'v': throwing_speed # Velocity at which the ball is thrown - this guy is an professional baseball pitcher\n            }\n    \n    # Step 3: Define dx equation\n    def dx(x, u):\n        return {\n            'x': x['v'],\n            'v': -9.81 # Acceleration of gravity\n        }\n\n    # Step 3: Define equation for calculating output/measuremetn\n    def output(x):\n        return {\n            'x': x['x']\n        }\n\n    # Step 4: Define threshold equation\n    def threshold_met(x):\n        return {\n            'falling': x['v'] < 0,\n            'impact': x['x'] <= 0\n        }\n\n    # Step 5 (optional): Define event state equation- measurement of how close you are to threshold (0-1)\n    def event_state(x): \n        event_state.max_x = max(event_state.max_x, x['x']) # Maximum altitude\n        return {\n            'falling': max(x['v']/throwing_speed,0), # Throwing speed is max speed\n            'impact': max(x['x']/event_state.max_x,0) # 1 until falling begins, then it's fraction of height\n        }\n    event_state.max_x = 0\n    \n    # Step 6: Generate model\n    m = PrognosticsModel.generate_model(keys, initialize, output, event_state_eqn = event_state, threshold_eqn=threshold_met, dx_eqn=dx)\n\n    # Step 7: Setup for simulation \n    def future_load(t, x=None):\n        return {}\n\n    # Step 8: Simulate to impact\n    event = 'impact'\n    simulated_results = m.simulate_to_threshold(future_load, threshold_keys=[event], dt = 0.005, save_freq=1, print = True)\n\n    # Print flight time\n    print('The object hit the ground in {} seconds'.format(round(simulated_results.times[-1],2)))\n\n# This allows the module to be executed directly \nif __name__=='__main__':\n    run_example()"
      ]
    }
  ],
  "metadata": {
    "kernelspec": {
      "display_name": "Python 3",
      "language": "python",
      "name": "python3"
    },
    "language_info": {
      "codemirror_mode": {
        "name": "ipython",
        "version": 3
      },
      "file_extension": ".py",
      "mimetype": "text/x-python",
      "name": "python",
      "nbconvert_exporter": "python",
      "pygments_lexer": "ipython3",
      "version": "3.8.9"
    }
  },
  "nbformat": 4,
  "nbformat_minor": 0
}