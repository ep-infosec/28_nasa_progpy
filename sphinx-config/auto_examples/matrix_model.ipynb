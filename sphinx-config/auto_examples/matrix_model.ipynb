{
  "cells": [
    {
      "cell_type": "code",
      "execution_count": null,
      "metadata": {
        "collapsed": false
      },
      "outputs": [],
      "source": [
        "%matplotlib inline"
      ]
    },
    {
      "cell_type": "markdown",
      "metadata": {},
      "source": [
        "\nThis example shows the use of the advanced feature - matrix models. Matrix models represent the state of the system using matricies instead of dictionaries. The provided model.StateContainer, InputContainer, and OutputContainer can be treated as dictionaries but use an underly matrix. This is important for some applications like surrogate and machine-learned models where the state is represented by a tensor, and operations by matrix operations. Simulation functions propogate the state using the matrix form, preventing the inefficiency of having to convert to and from dictionaries.\n\nIn this example, a model is designed to simulate a thrown object using matrix notation (instead of dictionary notation as in the standard model). The implementation of the model is comparable to a standard model, except that it uses the x.matrix, u.matrix, and z.matirx to compute matrix operations within each function.\n"
      ]
    },
    {
      "cell_type": "code",
      "execution_count": null,
      "metadata": {
        "collapsed": false
      },
      "outputs": [],
      "source": [
        "def run_example():\n    from prog_models import PrognosticsModel\n    import numpy as np\n\n    # Define the model\n    class ThrownObject(PrognosticsModel):\n        # Define the model properties, this is exactly the same as for a regular model.\n\n        inputs = []  # no inputs, no way to control\n        states = [\n            'x',    # Position (m) \n            'v'    # Velocity (m/s)\n            ]\n        outputs = [\n            'x'     # Position (m)\n        ]\n        events = [\n            'falling',  # Event- object is falling\n            'impact'    # Event- object has impacted ground\n        ]\n\n        is_vectorized = True\n\n        # The Default parameters. Overwritten by passing parameters dictionary into constructor\n        default_parameters = {\n            'thrower_height': 1.83,  # m\n            'throwing_speed': 40,  # m/s\n            'g': -9.81,  # Acceleration due to gravity in m/s^2\n            'process_noise': 0.0  # amount of noise in each step\n        }\n\n        # Define the model equations\n        def initialize(self, u = None, z = None):\n            # Note: states are returned using StateContainer\n            return self.StateContainer({\n                'x': self.parameters['thrower_height'], \n                'v': self.parameters['throwing_speed']})\n\n        def next_state(self, x, u, dt):\n            # Here we will use the matrix version for each variable\n            # Note: x.matrix is a column vector\n            # Note: u.matrix is a column vector\n            #   and u.matrix is in the order of model.inputs, above\n\n            A = np.array([[0, 1], [0, 0]])  # State transition matrix\n            B = np.array([[0], [self.parameters['g']]])  # Acceleration due to gravity\n            x.matrix += (np.matmul(A, x.matrix) + B) * dt\n\n            return x\n            \n        def output(self, x):\n            # Note- states can still be accessed a dictionary\n            return self.OutputContainer({'x': x['x']})\n\n        # This is actually optional. Leaving thresholds_met empty will use the event state to define thresholds.\n        #  Threshold = Event State == 0. However, this implementation is more efficient, so we included it\n        def threshold_met(self, x):\n            return {\n                'falling': x['v'] < 0,\n                'impact': x['x'] <= 0\n            }\n\n        def event_state(self, x): \n            x_max = x['x'] + np.square(x['v'])/(-self.parameters['g']*2) # Use speed and position to estimate maximum height\n            x_max = np.where(x['v'] > 0, x['x'], x_max) # 1 until falling begins\n            return {\n                'falling': np.maximum(x['v']/self.parameters['throwing_speed'],0),  # Throwing speed is max speed\n                'impact': np.maximum(x['x']/x_max,0)  # then it's fraction of height\n            }\n\n    # Now we can use the model\n    # Create the model\n    thrown_object = ThrownObject()\n\n    # Use the model\n    x = thrown_object.initialize()\n    print('State at 0.1 seconds: ', thrown_object.next_state(x, {}, 0.1))\n\n    # But you can also initialize state directly, like so:\n    x = thrown_object.StateContainer({'x': 1.93, 'v': 40})\n    print('State at 0.1 seconds: ', thrown_object.next_state(x, None, 0.1))\n\n    # Now lets use it for simulation.\n    def future_loading(t, x=None):\n        return thrown_object.InputContainer({})\n\n    thrown_object.simulate_to_threshold(\n        future_loading, \n        print = True, \n        threshold_keys = 'impact', \n        dt = 0.1, \n        save_freq = 1)\n\n# This allows the module to be executed directly \nif __name__ == '__main__':\n    run_example()"
      ]
    }
  ],
  "metadata": {
    "kernelspec": {
      "display_name": "Python 3",
      "language": "python",
      "name": "python3"
    },
    "language_info": {
      "codemirror_mode": {
        "name": "ipython",
        "version": 3
      },
      "file_extension": ".py",
      "mimetype": "text/x-python",
      "name": "python",
      "nbconvert_exporter": "python",
      "pygments_lexer": "ipython3",
      "version": "3.8.9"
    }
  },
  "nbformat": 4,
  "nbformat_minor": 0
}